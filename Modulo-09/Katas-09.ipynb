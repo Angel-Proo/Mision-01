{
 "cells": [
  {
   "cell_type": "markdown",
   "metadata": {},
   "source": [
    "## Uso de funciones en Python"
   ]
  },
  {
   "cell_type": "code",
   "execution_count": 23,
   "metadata": {},
   "outputs": [
    {
     "name": "stdout",
     "output_type": "stream",
     "text": [
      "Marte tiene 2\n",
      "Marte tiene una circunferencia polar de 6752\n"
     ]
    }
   ],
   "source": [
    "planeta = {\n",
    "    'nombre' : 'Marte',\n",
    "    'lunas' : 2\n",
    "}\n",
    "\n",
    "print(f\"{planeta.get('nombre')} tiene {planeta['lunas']}\")\n",
    "\n",
    "planeta['circunferencias'] = {\n",
    "    'polar' : 6752,\n",
    "    'equatorial' : 6792}\n",
    "\n",
    "print(f'{planeta[\"nombre\"]} tiene una circunferencia polar de {planeta[\"circunferencias\"][\"polar\"]}')"
   ]
  },
  {
   "cell_type": "markdown",
   "metadata": {},
   "source": [
    "## Programación dinámica con diccionarios"
   ]
  },
  {
   "cell_type": "code",
   "execution_count": null,
   "metadata": {},
   "outputs": [],
   "source": [
    "def combustible(tanque1, tanque2, tanque3):\n",
    "    promedio_tanque = (tanque1+tanque2+tanque3)/3\n",
    "    return f\"\"\" Reporte:\n",
    "Primer tanque: {tanque1}%\n",
    "Segundo tanque: {tanque2}%\n",
    "Tercer tanque: {tanque3}%\n",
    "Promedio de combustible: {promedio_tanque}%\n",
    "\"\"\"\n",
    "\n",
    "print(combustible(10,50,40))\n",
    "\n",
    "def promedio(valores):\n",
    "    total=sum(valores)\n",
    "    num_i = len(valores)\n",
    "    return total / num_i \n",
    "\n",
    "print(promedio([30,30,30]))\n",
    "\n",
    "def combustible(tanque1, tanque2, tanque3):\n",
    "    return f\"\"\"Reporte:\n",
    "Primer tanque: {tanque1}%\n",
    "Segundo tanque: {tanque2}%\n",
    "Tercer tanque: {tanque3}%\n",
    "Promedio de combustible: {promedio([tanque1,tanque2,tanque3])}%\n",
    "\"\"\"\n",
    "print(combustible(10,10,40))"
   ]
  },
  {
   "cell_type": "markdown",
   "metadata": {},
   "source": [
    "## Trabajo con argumentos de palabra clave"
   ]
  },
  {
   "cell_type": "code",
   "execution_count": 25,
   "metadata": {},
   "outputs": [
    {
     "name": "stdout",
     "output_type": "stream",
     "text": [
      "\n",
      "    Mision a Luna\n",
      "    Tiempo total: 65 minutos\n",
      "    Combustible total: 7000\n",
      "\n",
      "    Mision a Luna\n",
      "    Tiempo total: 50 minutos\n",
      "    Combustible total: 50000\n",
      "\n",
      "    Mision a Luna\n",
      "    Tiempo total: 50 minutos\n",
      "    Combustible total: 50000\n",
      "    Tanque principal --> 30000 galones Tanque externo --> 20000 galones \n"
     ]
    }
   ],
   "source": [
    "def reporte_mision(lanzamiento, tiempo_vuelo,destino,principal,externo):\n",
    "    return f\"\"\"\n",
    "    Mision a {destino}\n",
    "    Tiempo total: {lanzamiento+tiempo_vuelo} minutos\n",
    "    Combustible total: {principal+externo}\"\"\"\n",
    "\n",
    "print(reporte_mision(14,51,\"Luna\",2000,5000))\n",
    "\n",
    "def reporte_mision(destino,*minutos,**combustible):\n",
    "    return f\"\"\"\n",
    "    Mision a {destino}\n",
    "    Tiempo total: {sum(minutos)} minutos\n",
    "    Combustible total: {sum(combustible.values())}\"\"\"\n",
    "    \n",
    "print(reporte_mision(\"Luna\",10,10,30,principal=30000,externo=20000))\n",
    "\n",
    "def reporte_mision(destino,*minutos,**combustible):\n",
    "    reporte = f\"\"\"\n",
    "    Mision a {destino}\n",
    "    Tiempo total: {sum(minutos)} minutos\n",
    "    Combustible total: {sum(combustible.values())}\n",
    "    \"\"\"\n",
    "    for nombre_tanque, galones in combustible.items():\n",
    "        reporte += f\"Tanque {nombre_tanque} --> {galones} galones \"\n",
    "    return reporte\n",
    "    \n",
    "print(reporte_mision(\"Luna\",10,10,30,principal=30000,externo=20000))"
   ]
  }
 ],
 "metadata": {
  "interpreter": {
   "hash": "aecd030d4c8316a52bf122072e28f84bcc79844c2684e041fef2e3f1d9f59078"
  },
  "kernelspec": {
   "display_name": "Python 3.10.2 64-bit",
   "language": "python",
   "name": "python3"
  },
  "language_info": {
   "codemirror_mode": {
    "name": "ipython",
    "version": 3
   },
   "file_extension": ".py",
   "mimetype": "text/x-python",
   "name": "python",
   "nbconvert_exporter": "python",
   "pygments_lexer": "ipython3",
   "version": "3.10.2"
  },
  "orig_nbformat": 4
 },
 "nbformat": 4,
 "nbformat_minor": 2
}
