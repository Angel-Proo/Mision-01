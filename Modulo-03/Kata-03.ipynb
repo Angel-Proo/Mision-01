{
 "cells": [
  {
   "cell_type": "markdown",
   "metadata": {},
   "source": [
    "## Escribir declaraciones if, else, y elif"
   ]
  },
  {
   "cell_type": "code",
   "execution_count": null,
   "metadata": {},
   "outputs": [],
   "source": [
    "velocidad = 49\n",
    "\n",
    "if velocidad > 25:\n",
    "    print(\"Advertencia: El asteroide lleva una velocidad mayor a 25km/s\")\n",
    "else:\n",
    "    print(\"El asteroide no es de peligro\")"
   ]
  },
  {
   "cell_type": "code",
   "execution_count": null,
   "metadata": {},
   "outputs": [],
   "source": [
    "vel = 19\n",
    "\n",
    "if vel > 20:\n",
    "    print(\"Si miras al cielo, podras ver pasar un asteroide\")\n",
    "elif vel == 20:\n",
    "    print(\"Si miras al cielo, podras ver pasar un asteroide\")\n",
    "else:\n",
    "    print(\"Nada pasa en el cielo de momento\")"
   ]
  },
  {
   "cell_type": "markdown",
   "metadata": {},
   "source": [
    "## Uso de operadores and y or"
   ]
  },
  {
   "cell_type": "code",
   "execution_count": 1,
   "metadata": {},
   "outputs": [
    {
     "name": "stdout",
     "output_type": "stream",
     "text": [
      "Si miras al cielo, podras ver pasar un asteroide\n"
     ]
    }
   ],
   "source": [
    "tamaño = 29\n",
    "velocidad = 24\n",
    "\n",
    "if tamaño > 25 and velocidad > 25:\n",
    "    print(\"El asteroide es de peligro\")\n",
    "elif tamaño < 25 and velocidad < 20:\n",
    "    print(\"Nada pasa en el cielo de momento\")    \n",
    "else:\n",
    "    print(\"Si miras al cielo, podras ver pasar un asteroide\")"
   ]
  }
 ],
 "metadata": {
  "interpreter": {
   "hash": "b2ff41febf93f06892cd279d319f8b687a5b1a4ff7a8f17ebd5ec8b99fff32e9"
  },
  "kernelspec": {
   "display_name": "Python 3.10.2 64-bit",
   "language": "python",
   "name": "python3"
  },
  "language_info": {
   "codemirror_mode": {
    "name": "ipython",
    "version": 3
   },
   "file_extension": ".py",
   "mimetype": "text/x-python",
   "name": "python",
   "nbconvert_exporter": "python",
   "pygments_lexer": "ipython3",
   "version": "3.10.2"
  },
  "orig_nbformat": 4
 },
 "nbformat": 4,
 "nbformat_minor": 2
}
