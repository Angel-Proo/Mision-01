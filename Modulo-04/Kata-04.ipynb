{
 "cells": [
  {
   "cell_type": "markdown",
   "metadata": {},
   "source": [
    "## Transformar cadenas"
   ]
  },
  {
   "cell_type": "code",
   "execution_count": 11,
   "metadata": {},
   "outputs": [
    {
     "name": "stdout",
     "output_type": "stream",
     "text": [
      "['Interesting facts about the Moon', \"The Moon is Earth's only satellite\", 'There are several interesting facts about the Moon and how it affects life here on Earth', '\\n,On average, the Moon moves 4cm away from the Earth every year', 'This yearly drift is not significant enough to cause immediate effects on Earth', 'The highest daylight temperature of the Moon is 127 C.']\n",
      "\n",
      ",On average, the Moon moves 4cm away from the Earth every year\n",
      "The highest daylight temperature of the Moon is 127 Celsius.\n"
     ]
    }
   ],
   "source": [
    "text = \"\"\"Interesting facts about the Moon. The Moon is Earth's only satellite. There are several interesting facts about the Moon and how it affects life here on Earth. \\n,On average, the Moon moves 4cm away from the Earth every year. This yearly drift is not significant enough to cause immediate effects on Earth. The highest daylight temperature of the Moon is 127 C.\"\"\"\n",
    "texto=text.split(\". \")\n",
    "print(texto)\n",
    "\n",
    "palabrasClave = ['average','temperature','distance']\n",
    "\n",
    "for i in texto:\n",
    "    for j in palabrasClave:\n",
    "        if j in i:\n",
    "            print(i.replace('C','Celsius'))\n",
    "            "
   ]
  },
  {
   "cell_type": "markdown",
   "metadata": {},
   "source": [
    "## Formateando Cadenas"
   ]
  },
  {
   "cell_type": "code",
   "execution_count": 52,
   "metadata": {},
   "outputs": [
    {
     "name": "stdout",
     "output_type": "stream",
     "text": [
      "Datos Sobre La Gravedad De Luna\n",
      "--------------------------------------------------\n",
      "Nombre del Planeta: Tierra\n",
      "Gravedad en Luna: 1.62 m/s2\n",
      "\n",
      "Datos Sobre La Gravedad De Luna\n",
      "--------------------------------------------------\n",
      "Nombre del Planeta: Tierra\n",
      "Gravedad en Luna: 1.62 m/s2\n",
      "\n",
      "\n",
      "Datos sobre la gravedad de Marte\n",
      "---------------------------------------------------------------------------\n",
      "Nombre del Planeta: Granímedes\n",
      "Gravedad en Marte: 1.43 m/s2\n"
     ]
    }
   ],
   "source": [
    "nombre = \"Luna\"\n",
    "gravedad = 0.00162 #in kms\n",
    "planeta = 'Tierra'\n",
    "\n",
    "titulo = f'''Datos sobre la gravedad de {nombre}'''\n",
    "\n",
    "multilinea = f\"\"\"\n",
    "{'-'*50}\n",
    "Nombre del Planeta: {planeta}\n",
    "Gravedad en {nombre}: {round(gravedad*1000,2)} m/s2\n",
    "\"\"\"\n",
    "\n",
    "plantilla = f\"\"\"{titulo.title()}{multilinea}\"\"\"\n",
    "\n",
    "print(plantilla)\n",
    "\n",
    "nombre = \"Marte\"\n",
    "gravedad = 0.00143 #in kms\n",
    "planeta = 'Granímedes'\n",
    "\n",
    "print(plantilla)\n",
    "\n",
    "plantilla_2 = \"\"\"\n",
    "Datos sobre la gravedad de {nombre}\n",
    "---------------------------------------------------------------------------\n",
    "Nombre del Planeta: {planeta}\n",
    "Gravedad en {nombre}: {gravedad} m/s2\"\"\"\n",
    "\n",
    "print(plantilla_2.format(nombre=nombre,planeta=planeta,gravedad=round(gravedad*1000,2)))\n"
   ]
  }
 ],
 "metadata": {
  "interpreter": {
   "hash": "b2ff41febf93f06892cd279d319f8b687a5b1a4ff7a8f17ebd5ec8b99fff32e9"
  },
  "kernelspec": {
   "display_name": "Python 3.10.2 64-bit",
   "language": "python",
   "name": "python3"
  },
  "language_info": {
   "codemirror_mode": {
    "name": "ipython",
    "version": 3
   },
   "file_extension": ".py",
   "mimetype": "text/x-python",
   "name": "python",
   "nbconvert_exporter": "python",
   "pygments_lexer": "ipython3",
   "version": "3.10.2"
  },
  "orig_nbformat": 4
 },
 "nbformat": 4,
 "nbformat_minor": 2
}
