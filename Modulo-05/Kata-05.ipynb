{
 "cells": [
  {
   "cell_type": "markdown",
   "metadata": {},
   "source": [
    "## Utilizar operadores aritméticos"
   ]
  },
  {
   "cell_type": "code",
   "execution_count": 15,
   "metadata": {},
   "outputs": [
    {
     "name": "stdout",
     "output_type": "stream",
     "text": [
      "distancia :  628949330 \n",
      "distancia en millas:  390577534\n"
     ]
    }
   ],
   "source": [
    "tierra = 149597870\n",
    "jupiter = 778547200\n",
    "\n",
    "distancia = jupiter - tierra\n",
    "\n",
    "millas = round(distancia * 0.621)\n",
    "\n",
    "print('distancia : ',distancia,'\\ndistancia en millas: ',millas)"
   ]
  },
  {
   "cell_type": "markdown",
   "metadata": {},
   "source": [
    "## convierte cadenas en números y usa valores absolutos"
   ]
  },
  {
   "cell_type": "code",
   "execution_count": 16,
   "metadata": {},
   "outputs": [
    {
     "name": "stdout",
     "output_type": "stream",
     "text": [
      "distancia :  50300000 \n",
      "distancia en millas:  31236300\n"
     ]
    }
   ],
   "source": [
    "planeta1 = int(input('Ingresa la distancia del sol del primer planeta (Kms): '))\n",
    "planeta2 = int(input('Ingresa la distancia del sol del segundo planeta (Kms): '))\n",
    "\n",
    "distancia = planeta2-planeta1\n",
    "millas = round(distancia*0.621)\n",
    "\n",
    "print('distancia : ',distancia,'\\ndistancia en millas: ',abs(millas))\n"
   ]
  }
 ],
 "metadata": {
  "interpreter": {
   "hash": "b2ff41febf93f06892cd279d319f8b687a5b1a4ff7a8f17ebd5ec8b99fff32e9"
  },
  "kernelspec": {
   "display_name": "Python 3.10.2 64-bit",
   "language": "python",
   "name": "python3"
  },
  "language_info": {
   "codemirror_mode": {
    "name": "ipython",
    "version": 3
   },
   "file_extension": ".py",
   "mimetype": "text/x-python",
   "name": "python",
   "nbconvert_exporter": "python",
   "pygments_lexer": "ipython3",
   "version": "3.10.2"
  },
  "orig_nbformat": 4
 },
 "nbformat": 4,
 "nbformat_minor": 2
}
